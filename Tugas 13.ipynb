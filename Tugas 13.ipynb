{
  "nbformat": 4,
  "nbformat_minor": 0,
  "metadata": {
    "colab": {
      "name": "Untitled3.ipynb",
      "provenance": [],
      "authorship_tag": "ABX9TyNc/gmXDjjLIzVPHvAqDgGt",
      "include_colab_link": true
    },
    "kernelspec": {
      "name": "python3",
      "display_name": "Python 3"
    }
  },
  "cells": [
    {
      "cell_type": "markdown",
      "metadata": {
        "id": "view-in-github",
        "colab_type": "text"
      },
      "source": [
        "<a href=\"https://colab.research.google.com/github/sultanrizky10/TUGAS/blob/main/Tugas%2013.ipynb\" target=\"_parent\"><img src=\"https://colab.research.google.com/assets/colab-badge.svg\" alt=\"Open In Colab\"/></a>"
      ]
    },
    {
      "cell_type": "markdown",
      "metadata": {
        "id": "m6oylp3mBzrs"
      },
      "source": [
        "Grafik 1 - FREKUENSI 1800 Mhz"
      ]
    },
    {
      "cell_type": "code",
      "metadata": {
        "id": "C_-5uFIrBYv8"
      },
      "source": [
        "import numpy as np\r\n",
        "import matplotlib.pyplot as plt"
      ],
      "execution_count": null,
      "outputs": []
    },
    {
      "cell_type": "code",
      "metadata": {
        "id": "YnThrsVxBb6d"
      },
      "source": [
        "def cos(frek,tipe,ht,hr,d):\r\n",
        "    if frek in range(150,1501):\r\n",
        "        Ca=69.55\r\n",
        "        Cb=26.16\r\n",
        "    elif frek in range(1501,2001):\r\n",
        "        Ca=46.3\r\n",
        "        Cb=33.9\r\n",
        "    \r\n",
        "    if tipe=='urban' :\r\n",
        "        Cm=0\r\n",
        "    elif tipe=='suburban' :\r\n",
        "        Cm= -2*((np.log10((frek/28)**2))-5.4)\r\n",
        "    elif tipe=='open' :\r\n",
        "        Cm= -4.78*(np.log10(frek))+18.33*(np.log10(frek))-40.94\r\n",
        "    else :\r\n",
        "        Cm='tipe salah'\r\n",
        "    \r\n",
        "    ahr = (1.1*np.log10(frek)-0.7)*hr-(1.56*np.log10(frek)-1.8)\r\n",
        "    Lp = Ca+(Cb*np.log10(frek))-(13.83*np.log(ht))-ahr+((44.9-6.55*np.log10(ht))*np.log10(d))-Cm\r\n",
        "    \r\n",
        "    return Lp"
      ],
      "execution_count": null,
      "outputs": []
    },
    {
      "cell_type": "code",
      "metadata": {
        "id": "SB0XO1o1BdN4"
      },
      "source": [
        "f=1800 #MHz\r\n",
        "area='urban'\r\n",
        "area2='suburban'\r\n",
        "area3='open'\r\n",
        "tower=80 #m\r\n",
        "user=1.5 #m\r\n",
        "dmin=200 #m\r\n",
        "dmax=700 #m\r\n",
        "N=200 #titik\r\n",
        "d=np.random.randint(dmin,dmax,N)"
      ],
      "execution_count": null,
      "outputs": []
    },
    {
      "cell_type": "code",
      "metadata": {
        "id": "5KZ6ZpcEBe8n"
      },
      "source": [
        "print(d)"
      ],
      "execution_count": null,
      "outputs": []
    },
    {
      "cell_type": "code",
      "metadata": {
        "id": "rVCEnYt1BjlO"
      },
      "source": [
        "LpUrban=cos(f,area,tower,user,d)\r\n",
        "LpSuburban=cos(f,area2,tower,user,d)\r\n",
        "LpOpen=cos(f,area3,tower,user,d)"
      ],
      "execution_count": null,
      "outputs": []
    },
    {
      "cell_type": "code",
      "metadata": {
        "id": "-nqbfA3jBkAi"
      },
      "source": [
        "d_sort=d[np.argsort(d)]\r\n",
        "Urban_sort=LpUrban[np.argsort(d)]\r\n",
        "Suburban_sort=LpSuburban[np.argsort(d)]\r\n",
        "Open_sort=LpOpen[np.argsort(d)]"
      ],
      "execution_count": null,
      "outputs": []
    },
    {
      "cell_type": "markdown",
      "metadata": {
        "id": "yD8AOuqWB41m"
      },
      "source": [
        "Gambar Kurva"
      ]
    },
    {
      "cell_type": "code",
      "metadata": {
        "id": "GSVGkbzhB7SR"
      },
      "source": [
        "plt.figure()\r\n",
        "plt.plot(d_sort,Urban_sort,'r-', label='Urban')\r\n",
        "plt.plot(d_sort,Suburban_sort,'k-', label='Suburban')\r\n",
        "plt.plot(d_sort,Open_sort,'g-', label='Open')\r\n",
        "plt.legend()\r\n",
        "plt.title('Frekuensi 1800 MHz')\r\n",
        "plt.xlabel('Jarak (m)')\r\n",
        "plt.ylabel('Path Loss (dB)')\r\n",
        "plt.show()"
      ],
      "execution_count": null,
      "outputs": []
    },
    {
      "cell_type": "markdown",
      "metadata": {
        "id": "SboubmzfB-0s"
      },
      "source": [
        "Grafik 2 - Model Urban"
      ]
    },
    {
      "cell_type": "code",
      "metadata": {
        "id": "5GRKk_HUB99x"
      },
      "source": [
        "f=700 #MHz\r\n",
        "f2=900 #MHz\r\n",
        "f3=1800 #MHz\r\n",
        "area='urban'\r\n",
        "tower=80 #m\r\n",
        "user=1.5 #m\r\n",
        "dmin=200 #m\r\n",
        "dmax=700 #m\r\n",
        "N=200 #titik\r\n",
        "d=np.random.randint(dmin,dmax,N)"
      ],
      "execution_count": null,
      "outputs": []
    },
    {
      "cell_type": "code",
      "metadata": {
        "id": "5HAWR-X1CCob"
      },
      "source": [
        "LpUrban=cos(f,area,tower,user,d)\r\n",
        "LpUrban2=cos(f2,area,tower,user,d)\r\n",
        "LpUrban3=cos(f3,area,tower,user,d)"
      ],
      "execution_count": null,
      "outputs": []
    },
    {
      "cell_type": "code",
      "metadata": {
        "id": "v0isrmS2CD3q"
      },
      "source": [
        "d_sort=d[np.argsort(d)]\r\n",
        "Urban_sort=LpUrban[np.argsort(d)]\r\n",
        "Urban2_sort=LpUrban2[np.argsort(d)]\r\n",
        "Urban3_sort=LpUrban3[np.argsort(d)]"
      ],
      "execution_count": null,
      "outputs": []
    },
    {
      "cell_type": "markdown",
      "metadata": {
        "id": "6IPqAAQnCEnu"
      },
      "source": [
        "Gambar Curva"
      ]
    },
    {
      "cell_type": "code",
      "metadata": {
        "id": "SBKlL__pCGud"
      },
      "source": [
        "plt.figure()\r\n",
        "plt.plot(d_sort,Urban_sort,'r-', label='700 Mhz')\r\n",
        "plt.plot(d_sort,Urban2_sort,'k-', label='900 Mhz')\r\n",
        "plt.plot(d_sort,Urban3_sort,'g-', label='1800 Mhz')\r\n",
        "plt.legend()\r\n",
        "plt.title('Model Urban')\r\n",
        "plt.xlabel('Jarak (m)')\r\n",
        "plt.ylabel('Path Loss (dB)')\r\n",
        "plt.show()"
      ],
      "execution_count": null,
      "outputs": []
    }
  ]
}